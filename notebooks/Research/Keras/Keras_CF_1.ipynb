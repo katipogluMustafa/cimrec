{
  "nbformat": 4,
  "nbformat_minor": 0,
  "metadata": {
    "colab": {
      "name": "Keras_CF_1.ipynb",
      "provenance": []
    },
    "kernelspec": {
      "name": "python3",
      "display_name": "Python 3"
    }
  },
  "cells": [
    {
      "cell_type": "markdown",
      "metadata": {
        "id": "dDzWacMdG9uN"
      },
      "source": [
        "https://keras.io/examples/structured_data/collaborative_filtering_movielens/"
      ]
    },
    {
      "cell_type": "code",
      "metadata": {
        "id": "sEKV43DTFoBz"
      },
      "source": [
        "import pandas as pd\r\n",
        "import numpy as np\r\n",
        "from zipfile import ZipFile\r\n",
        "import tensorflow ass tf\r\n",
        "from tensorflow import keras\r\n",
        "from tensorflow.keras import layers\r\n",
        "from pathlib import Path\r\n",
        "import matplotlib.pyplot as plt"
      ],
      "execution_count": 1,
      "outputs": []
    },
    {
      "cell_type": "code",
      "metadata": {
        "colab": {
          "base_uri": "https://localhost:8080/"
        },
        "id": "yLko_5_1FuLV",
        "outputId": "8fdc7ed0-95c7-4e1f-bf53-ce71706ed5e9"
      },
      "source": [
        "movielens_data_file_url = (\r\n",
        "    \"http://files.grouplens.org/datasets/movielens/ml-latest-small.zip\"\r\n",
        ")\r\n",
        "movielens_zipped_file = keras.utils.get_file(\r\n",
        "    \"ml-latest-small.zip\", movielens_data_file_url, extract=False\r\n",
        ")\r\n",
        "keras_datasets_path = Path(movielens_zipped_file).parents[0]\r\n",
        "movielens_dir = keras_datasets_path / \"ml-latest-small\"\r\n",
        "\r\n",
        "# Only extract the data the first time the script is run.\r\n",
        "if not movielens_dir.exists():\r\n",
        "    with ZipFile(movielens_zipped_file, \"r\") as zip:\r\n",
        "        # Extract files\r\n",
        "        print(\"Extracting all the files now...\")\r\n",
        "        zip.extractall(path=keras_datasets_path)\r\n",
        "        print(\"Done!\")\r\n",
        "\r\n",
        "ratings_file = movielens_dir / \"ratings.csv\"\r\n",
        "df = pd.read_csv(ratings_file)"
      ],
      "execution_count": 2,
      "outputs": [
        {
          "output_type": "stream",
          "text": [
            "Downloading data from http://files.grouplens.org/datasets/movielens/ml-latest-small.zip\n",
            "983040/978202 [==============================] - 1s 1us/step\n",
            "Extracting all the files now...\n",
            "Done!\n"
          ],
          "name": "stdout"
        }
      ]
    },
    {
      "cell_type": "code",
      "metadata": {
        "colab": {
          "base_uri": "https://localhost:8080/",
          "height": 419
        },
        "id": "RtwRBHUjFytW",
        "outputId": "78b9d9ae-2fb3-4f07-e54e-690a1e63744a"
      },
      "source": [
        "df"
      ],
      "execution_count": 3,
      "outputs": [
        {
          "output_type": "execute_result",
          "data": {
            "text/html": [
              "<div>\n",
              "<style scoped>\n",
              "    .dataframe tbody tr th:only-of-type {\n",
              "        vertical-align: middle;\n",
              "    }\n",
              "\n",
              "    .dataframe tbody tr th {\n",
              "        vertical-align: top;\n",
              "    }\n",
              "\n",
              "    .dataframe thead th {\n",
              "        text-align: right;\n",
              "    }\n",
              "</style>\n",
              "<table border=\"1\" class=\"dataframe\">\n",
              "  <thead>\n",
              "    <tr style=\"text-align: right;\">\n",
              "      <th></th>\n",
              "      <th>userId</th>\n",
              "      <th>movieId</th>\n",
              "      <th>rating</th>\n",
              "      <th>timestamp</th>\n",
              "    </tr>\n",
              "  </thead>\n",
              "  <tbody>\n",
              "    <tr>\n",
              "      <th>0</th>\n",
              "      <td>1</td>\n",
              "      <td>1</td>\n",
              "      <td>4.0</td>\n",
              "      <td>964982703</td>\n",
              "    </tr>\n",
              "    <tr>\n",
              "      <th>1</th>\n",
              "      <td>1</td>\n",
              "      <td>3</td>\n",
              "      <td>4.0</td>\n",
              "      <td>964981247</td>\n",
              "    </tr>\n",
              "    <tr>\n",
              "      <th>2</th>\n",
              "      <td>1</td>\n",
              "      <td>6</td>\n",
              "      <td>4.0</td>\n",
              "      <td>964982224</td>\n",
              "    </tr>\n",
              "    <tr>\n",
              "      <th>3</th>\n",
              "      <td>1</td>\n",
              "      <td>47</td>\n",
              "      <td>5.0</td>\n",
              "      <td>964983815</td>\n",
              "    </tr>\n",
              "    <tr>\n",
              "      <th>4</th>\n",
              "      <td>1</td>\n",
              "      <td>50</td>\n",
              "      <td>5.0</td>\n",
              "      <td>964982931</td>\n",
              "    </tr>\n",
              "    <tr>\n",
              "      <th>...</th>\n",
              "      <td>...</td>\n",
              "      <td>...</td>\n",
              "      <td>...</td>\n",
              "      <td>...</td>\n",
              "    </tr>\n",
              "    <tr>\n",
              "      <th>100831</th>\n",
              "      <td>610</td>\n",
              "      <td>166534</td>\n",
              "      <td>4.0</td>\n",
              "      <td>1493848402</td>\n",
              "    </tr>\n",
              "    <tr>\n",
              "      <th>100832</th>\n",
              "      <td>610</td>\n",
              "      <td>168248</td>\n",
              "      <td>5.0</td>\n",
              "      <td>1493850091</td>\n",
              "    </tr>\n",
              "    <tr>\n",
              "      <th>100833</th>\n",
              "      <td>610</td>\n",
              "      <td>168250</td>\n",
              "      <td>5.0</td>\n",
              "      <td>1494273047</td>\n",
              "    </tr>\n",
              "    <tr>\n",
              "      <th>100834</th>\n",
              "      <td>610</td>\n",
              "      <td>168252</td>\n",
              "      <td>5.0</td>\n",
              "      <td>1493846352</td>\n",
              "    </tr>\n",
              "    <tr>\n",
              "      <th>100835</th>\n",
              "      <td>610</td>\n",
              "      <td>170875</td>\n",
              "      <td>3.0</td>\n",
              "      <td>1493846415</td>\n",
              "    </tr>\n",
              "  </tbody>\n",
              "</table>\n",
              "<p>100836 rows × 4 columns</p>\n",
              "</div>"
            ],
            "text/plain": [
              "        userId  movieId  rating   timestamp\n",
              "0            1        1     4.0   964982703\n",
              "1            1        3     4.0   964981247\n",
              "2            1        6     4.0   964982224\n",
              "3            1       47     5.0   964983815\n",
              "4            1       50     5.0   964982931\n",
              "...        ...      ...     ...         ...\n",
              "100831     610   166534     4.0  1493848402\n",
              "100832     610   168248     5.0  1493850091\n",
              "100833     610   168250     5.0  1494273047\n",
              "100834     610   168252     5.0  1493846352\n",
              "100835     610   170875     3.0  1493846415\n",
              "\n",
              "[100836 rows x 4 columns]"
            ]
          },
          "metadata": {
            "tags": []
          },
          "execution_count": 3
        }
      ]
    },
    {
      "cell_type": "code",
      "metadata": {
        "colab": {
          "base_uri": "https://localhost:8080/"
        },
        "id": "zVlE8-TzFzTs",
        "outputId": "51db3b54-1f6e-42bd-ad09-4d883ef92877"
      },
      "source": [
        "user_ids = df[\"userId\"].unique().tolist()\r\n",
        "user2user_encoded = {x: i for i, x in enumerate(user_ids)}\r\n",
        "userencoded2user = {i: x for i, x in enumerate(user_ids)}\r\n",
        "movie_ids = df[\"movieId\"].unique().tolist()\r\n",
        "movie2movie_encoded = {x: i for i, x in enumerate(movie_ids)}\r\n",
        "movie_encoded2movie = {i: x for i, x in enumerate(movie_ids)}\r\n",
        "df[\"user\"] = df[\"userId\"].map(user2user_encoded)\r\n",
        "df[\"movie\"] = df[\"movieId\"].map(movie2movie_encoded)\r\n",
        "\r\n",
        "num_users = len(user2user_encoded)\r\n",
        "num_movies = len(movie_encoded2movie)\r\n",
        "df[\"rating\"] = df[\"rating\"].values.astype(np.float32)\r\n",
        "# min and max ratings will be used to normalize the ratings later\r\n",
        "min_rating = min(df[\"rating\"])\r\n",
        "max_rating = max(df[\"rating\"])\r\n",
        "\r\n",
        "print(\r\n",
        "    \"Number of users: {}, Number of Movies: {}, Min rating: {}, Max rating: {}\".format(\r\n",
        "        num_users, num_movies, min_rating, max_rating\r\n",
        "    )\r\n",
        ")"
      ],
      "execution_count": 4,
      "outputs": [
        {
          "output_type": "stream",
          "text": [
            "Number of users: 610, Number of Movies: 9724, Min rating: 0.5, Max rating: 5.0\n"
          ],
          "name": "stdout"
        }
      ]
    },
    {
      "cell_type": "code",
      "metadata": {
        "id": "W_Z8KAm7F9Am"
      },
      "source": [
        "df = df.sample(frac=1, random_state=42)\r\n",
        "x = df[[\"user\", \"movie\"]].values\r\n",
        "# Normalize the targets between 0 and 1. Makes it easy to train.\r\n",
        "y = df[\"rating\"].apply(lambda x: (x - min_rating) / (max_rating - min_rating)).values\r\n",
        "# Assuming training on 90% of the data and validating on 10%.\r\n",
        "train_indices = int(0.9 * df.shape[0])\r\n",
        "x_train, x_val, y_train, y_val = (\r\n",
        "    x[:train_indices],\r\n",
        "    x[train_indices:],\r\n",
        "    y[:train_indices],\r\n",
        "    y[train_indices:],\r\n",
        ")"
      ],
      "execution_count": 7,
      "outputs": []
    },
    {
      "cell_type": "code",
      "metadata": {
        "id": "Z-bCGvZEF-Ur"
      },
      "source": [
        "EMBEDDING_SIZE = 50\r\n",
        "\r\n",
        "\r\n",
        "class RecommenderNet(keras.Model):\r\n",
        "    def __init__(self, num_users, num_movies, embedding_size, **kwargs):\r\n",
        "        super(RecommenderNet, self).__init__(**kwargs)\r\n",
        "        self.num_users = num_users\r\n",
        "        self.num_movies = num_movies\r\n",
        "        self.embedding_size = embedding_size\r\n",
        "        self.user_embedding = layers.Embedding(\r\n",
        "            num_users,\r\n",
        "            embedding_size,\r\n",
        "            embeddings_initializer=\"he_normal\",\r\n",
        "            embeddings_regularizer=keras.regularizers.l2(1e-6),\r\n",
        "        )\r\n",
        "        self.user_bias = layers.Embedding(num_users, 1)\r\n",
        "        self.movie_embedding = layers.Embedding(\r\n",
        "            num_movies,\r\n",
        "            embedding_size,\r\n",
        "            embeddings_initializer=\"he_normal\",\r\n",
        "            embeddings_regularizer=keras.regularizers.l2(1e-6),\r\n",
        "        )\r\n",
        "        self.movie_bias = layers.Embedding(num_movies, 1)\r\n",
        "\r\n",
        "    def call(self, inputs):\r\n",
        "        user_vector = self.user_embedding(inputs[:, 0])\r\n",
        "        user_bias = self.user_bias(inputs[:, 0])\r\n",
        "        movie_vector = self.movie_embedding(inputs[:, 1])\r\n",
        "        movie_bias = self.movie_bias(inputs[:, 1])\r\n",
        "        dot_user_movie = tf.tensordot(user_vector, movie_vector, 2)\r\n",
        "        # Add all the components (including bias)\r\n",
        "        x = dot_user_movie + user_bias + movie_bias\r\n",
        "        # The sigmoid activation forces the rating to between 0 and 1\r\n",
        "        return tf.nn.sigmoid(x)\r\n",
        "\r\n",
        "\r\n",
        "model = RecommenderNet(num_users, num_movies, EMBEDDING_SIZE)\r\n",
        "model.compile(\r\n",
        "    loss=tf.keras.losses.BinaryCrossentropy(), optimizer=keras.optimizers.Adam(lr=0.001)\r\n",
        ")\r\n"
      ],
      "execution_count": 10,
      "outputs": []
    },
    {
      "cell_type": "code",
      "metadata": {
        "colab": {
          "base_uri": "https://localhost:8080/"
        },
        "id": "iigZBgzXGNrd",
        "outputId": "6c82fff3-d342-4b60-bf8f-3fd50b6fc3f6"
      },
      "source": [
        "history = model.fit(\r\n",
        "    x=x_train,\r\n",
        "    y=y_train,\r\n",
        "    batch_size=64,\r\n",
        "    epochs=5,\r\n",
        "    verbose=1,\r\n",
        "    validation_data=(x_val, y_val),\r\n",
        ")"
      ],
      "execution_count": 11,
      "outputs": [
        {
          "output_type": "stream",
          "text": [
            "Epoch 1/5\n",
            "1418/1418 [==============================] - 5s 4ms/step - loss: 0.6358 - val_loss: 0.6206\n",
            "Epoch 2/5\n",
            "1418/1418 [==============================] - 5s 4ms/step - loss: 0.6131 - val_loss: 0.6192\n",
            "Epoch 3/5\n",
            "1418/1418 [==============================] - 5s 4ms/step - loss: 0.6091 - val_loss: 0.6143\n",
            "Epoch 4/5\n",
            "1418/1418 [==============================] - 6s 4ms/step - loss: 0.6071 - val_loss: 0.6139\n",
            "Epoch 5/5\n",
            "1418/1418 [==============================] - 6s 4ms/step - loss: 0.6065 - val_loss: 0.6141\n"
          ],
          "name": "stdout"
        }
      ]
    },
    {
      "cell_type": "code",
      "metadata": {
        "colab": {
          "base_uri": "https://localhost:8080/",
          "height": 295
        },
        "id": "XMN_5pQRGV9w",
        "outputId": "27749a6b-336b-4e38-a278-f8688dfc7dc1"
      },
      "source": [
        "plt.plot(history.history[\"loss\"])\r\n",
        "plt.plot(history.history[\"val_loss\"])\r\n",
        "plt.title(\"model loss\")\r\n",
        "plt.ylabel(\"loss\")\r\n",
        "plt.xlabel(\"epoch\")\r\n",
        "plt.legend([\"train\", \"test\"], loc=\"upper left\")\r\n",
        "plt.show()\r\n"
      ],
      "execution_count": 12,
      "outputs": [
        {
          "output_type": "display_data",
          "data": {
            "image/png": "[encoded data removed]",
            "text/plain": [
              "<Figure size 432x288 with 1 Axes>"
            ]
          },
          "metadata": {
            "tags": [],
            "needs_background": "light"
          }
        }
      ]
    },
    {
      "cell_type": "code",
      "metadata": {
        "colab": {
          "base_uri": "https://localhost:8080/"
        },
        "id": "l8fgOQhpGXKB",
        "outputId": "9ea55230-7192-4171-876e-107a5112b7a6"
      },
      "source": [
        "movie_df = pd.read_csv(movielens_dir / \"movies.csv\")\r\n",
        "\r\n",
        "# Let us get a user and see the top recommendations.\r\n",
        "user_id = df.userId.sample(1).iloc[0]\r\n",
        "movies_watched_by_user = df[df.userId == user_id]\r\n",
        "movies_not_watched = movie_df[\r\n",
        "    ~movie_df[\"movieId\"].isin(movies_watched_by_user.movieId.values)\r\n",
        "][\"movieId\"]\r\n",
        "movies_not_watched = list(\r\n",
        "    set(movies_not_watched).intersection(set(movie2movie_encoded.keys()))\r\n",
        ")\r\n",
        "movies_not_watched = [[movie2movie_encoded.get(x)] for x in movies_not_watched]\r\n",
        "user_encoder = user2user_encoded.get(user_id)\r\n",
        "user_movie_array = np.hstack(\r\n",
        "    ([[user_encoder]] * len(movies_not_watched), movies_not_watched)\r\n",
        ")\r\n",
        "ratings = model.predict(user_movie_array).flatten()\r\n",
        "top_ratings_indices = ratings.argsort()[-10:][::-1]\r\n",
        "recommended_movie_ids = [\r\n",
        "    movie_encoded2movie.get(movies_not_watched[x][0]) for x in top_ratings_indices\r\n",
        "]\r\n",
        "\r\n",
        "print(\"Showing recommendations for user: {}\".format(user_id))\r\n",
        "print(\"====\" * 9)\r\n",
        "print(\"Movies with high ratings from user\")\r\n",
        "print(\"----\" * 8)\r\n",
        "top_movies_user = (\r\n",
        "    movies_watched_by_user.sort_values(by=\"rating\", ascending=False)\r\n",
        "    .head(5)\r\n",
        "    .movieId.values\r\n",
        ")\r\n",
        "movie_df_rows = movie_df[movie_df[\"movieId\"].isin(top_movies_user)]\r\n",
        "for row in movie_df_rows.itertuples():\r\n",
        "    print(row.title, \":\", row.genres)\r\n",
        "\r\n",
        "print(\"----\" * 8)\r\n",
        "print(\"Top 10 movie recommendations\")\r\n",
        "print(\"----\" * 8)\r\n",
        "recommended_movies = movie_df[movie_df[\"movieId\"].isin(recommended_movie_ids)]\r\n",
        "for row in recommended_movies.itertuples():\r\n",
        "    print(row.title, \":\", row.genres)"
      ],
      "execution_count": 13,
      "outputs": [
        {
          "output_type": "stream",
          "text": [
            "Showing recommendations for user: 380\n",
            "====================================\n",
            "Movies with high ratings from user\n",
            "--------------------------------\n",
            "Desperado (1995) : Action|Romance|Western\n",
            "Bug's Life, A (1998) : Adventure|Animation|Children|Comedy\n",
            "X2: X-Men United (2003) : Action|Adventure|Sci-Fi|Thriller\n",
            "Lost in Translation (2003) : Comedy|Drama|Romance\n",
            "X-Men: Days of Future Past (2014) : Action|Adventure|Sci-Fi\n",
            "--------------------------------\n",
            "Top 10 movie recommendations\n",
            "--------------------------------\n",
            "Schindler's List (1993) : Drama|War\n",
            "Philadelphia Story, The (1940) : Comedy|Drama|Romance\n",
            "Vertigo (1958) : Drama|Mystery|Romance|Thriller\n",
            "Rear Window (1954) : Mystery|Thriller\n",
            "North by Northwest (1959) : Action|Adventure|Mystery|Romance|Thriller\n",
            "Some Like It Hot (1959) : Comedy|Crime\n",
            "Casablanca (1942) : Drama|Romance\n",
            "Maltese Falcon, The (1941) : Film-Noir|Mystery\n",
            "Sunset Blvd. (a.k.a. Sunset Boulevard) (1950) : Drama|Film-Noir|Romance\n",
            "Citizen Kane (1941) : Drama|Mystery\n"
          ],
          "name": "stdout"
        }
      ]
    },
    {
      "cell_type": "code",
      "metadata": {
        "id": "nVVMIDKWGZDH"
      },
      "source": [
        ""
      ],
      "execution_count": null,
      "outputs": []
    }
  ]
}