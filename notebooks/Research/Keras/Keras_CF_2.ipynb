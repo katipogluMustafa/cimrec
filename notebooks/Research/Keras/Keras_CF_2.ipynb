{
  "nbformat": 4,
  "nbformat_minor": 0,
  "metadata": {
    "colab": {
      "name": "Keras_CF_2.ipynb",
      "provenance": []
    },
    "kernelspec": {
      "name": "python3",
      "display_name": "Python 3"
    }
  },
  "cells": [
    {
      "cell_type": "markdown",
      "metadata": {
        "id": "hiCVIEqSH91f"
      },
      "source": [
        "https://medium.com/@jdwittenauer/deep-learning-with-keras-recommender-systems-e7b99cb29929"
      ]
    },
    {
      "cell_type": "code",
      "metadata": {
        "id": "tiQF9JrmH_EQ"
      },
      "source": [
        "import numpy as np\r\n",
        "import pandas as pd\r\n",
        "from sklearn.model_selection import train_test_split\r\n",
        "from sklearn.preprocessing import LabelEncoder\r\n",
        "from tensorflow import keras\r\n",
        "from pathlib import Path\r\n",
        "import pandas as pd\r\n",
        "import numpy as np\r\n",
        "from zipfile import ZipFile\r\n",
        "import tensorflow as tf\r\n",
        "from tensorflow import keras\r\n",
        "from tensorflow.keras import layers\r\n",
        "from pathlib import Path\r\n",
        "import matplotlib.pyplot as plt\r\n",
        "\r\n",
        "movielens_data_file_url = (\r\n",
        "    \"http://files.grouplens.org/datasets/movielens/ml-latest-small.zip\"\r\n",
        ")\r\n",
        "movielens_zipped_file = keras.utils.get_file(\r\n",
        "    \"ml-latest-small.zip\", movielens_data_file_url, extract=False\r\n",
        ")\r\n",
        "keras_datasets_path = Path(movielens_zipped_file).parents[0]\r\n",
        "movielens_dir = keras_datasets_path / \"ml-latest-small\"\r\n",
        "\r\n",
        "# Only extract the data the first time the script is run.\r\n",
        "if not movielens_dir.exists():\r\n",
        "    with ZipFile(movielens_zipped_file, \"r\") as zip:\r\n",
        "        # Extract files\r\n",
        "        print(\"Extracting all the files now...\")\r\n",
        "        zip.extractall(path=keras_datasets_path)\r\n",
        "        print(\"Done!\")\r\n",
        "\r\n",
        "ratings_file = movielens_dir / \"ratings.csv\"\r\n",
        "movies_file = movielens_dir / \"movies.csv\"\r\n",
        "ratings = pd.read_csv(ratings_file)\r\n",
        "movies = pd.read_csv(movies_file)\r\n"
      ],
      "execution_count": 8,
      "outputs": []
    },
    {
      "cell_type": "code",
      "metadata": {
        "colab": {
          "base_uri": "https://localhost:8080/",
          "height": 204
        },
        "id": "oxviQLfzIBfY",
        "outputId": "2f550202-d949-4945-99ac-48dbfd6bf10c"
      },
      "source": [
        "ratings.head()"
      ],
      "execution_count": 9,
      "outputs": [
        {
          "output_type": "execute_result",
          "data": {
            "text/html": [
              "<div>\n",
              "<style scoped>\n",
              "    .dataframe tbody tr th:only-of-type {\n",
              "        vertical-align: middle;\n",
              "    }\n",
              "\n",
              "    .dataframe tbody tr th {\n",
              "        vertical-align: top;\n",
              "    }\n",
              "\n",
              "    .dataframe thead th {\n",
              "        text-align: right;\n",
              "    }\n",
              "</style>\n",
              "<table border=\"1\" class=\"dataframe\">\n",
              "  <thead>\n",
              "    <tr style=\"text-align: right;\">\n",
              "      <th></th>\n",
              "      <th>userId</th>\n",
              "      <th>movieId</th>\n",
              "      <th>rating</th>\n",
              "      <th>timestamp</th>\n",
              "    </tr>\n",
              "  </thead>\n",
              "  <tbody>\n",
              "    <tr>\n",
              "      <th>0</th>\n",
              "      <td>1</td>\n",
              "      <td>1</td>\n",
              "      <td>4.0</td>\n",
              "      <td>964982703</td>\n",
              "    </tr>\n",
              "    <tr>\n",
              "      <th>1</th>\n",
              "      <td>1</td>\n",
              "      <td>3</td>\n",
              "      <td>4.0</td>\n",
              "      <td>964981247</td>\n",
              "    </tr>\n",
              "    <tr>\n",
              "      <th>2</th>\n",
              "      <td>1</td>\n",
              "      <td>6</td>\n",
              "      <td>4.0</td>\n",
              "      <td>964982224</td>\n",
              "    </tr>\n",
              "    <tr>\n",
              "      <th>3</th>\n",
              "      <td>1</td>\n",
              "      <td>47</td>\n",
              "      <td>5.0</td>\n",
              "      <td>964983815</td>\n",
              "    </tr>\n",
              "    <tr>\n",
              "      <th>4</th>\n",
              "      <td>1</td>\n",
              "      <td>50</td>\n",
              "      <td>5.0</td>\n",
              "      <td>964982931</td>\n",
              "    </tr>\n",
              "  </tbody>\n",
              "</table>\n",
              "</div>"
            ],
            "text/plain": [
              "   userId  movieId  rating  timestamp\n",
              "0       1        1     4.0  964982703\n",
              "1       1        3     4.0  964981247\n",
              "2       1        6     4.0  964982224\n",
              "3       1       47     5.0  964983815\n",
              "4       1       50     5.0  964982931"
            ]
          },
          "metadata": {
            "tags": []
          },
          "execution_count": 9
        }
      ]
    },
    {
      "cell_type": "code",
      "metadata": {
        "colab": {
          "base_uri": "https://localhost:8080/",
          "height": 204
        },
        "id": "yNTkm-7XIthP",
        "outputId": "4454efed-24f4-40f4-e825-d66499085bd5"
      },
      "source": [
        "movies.head()"
      ],
      "execution_count": 10,
      "outputs": [
        {
          "output_type": "execute_result",
          "data": {
            "text/html": [
              "<div>\n",
              "<style scoped>\n",
              "    .dataframe tbody tr th:only-of-type {\n",
              "        vertical-align: middle;\n",
              "    }\n",
              "\n",
              "    .dataframe tbody tr th {\n",
              "        vertical-align: top;\n",
              "    }\n",
              "\n",
              "    .dataframe thead th {\n",
              "        text-align: right;\n",
              "    }\n",
              "</style>\n",
              "<table border=\"1\" class=\"dataframe\">\n",
              "  <thead>\n",
              "    <tr style=\"text-align: right;\">\n",
              "      <th></th>\n",
              "      <th>movieId</th>\n",
              "      <th>title</th>\n",
              "      <th>genres</th>\n",
              "    </tr>\n",
              "  </thead>\n",
              "  <tbody>\n",
              "    <tr>\n",
              "      <th>0</th>\n",
              "      <td>1</td>\n",
              "      <td>Toy Story (1995)</td>\n",
              "      <td>Adventure|Animation|Children|Comedy|Fantasy</td>\n",
              "    </tr>\n",
              "    <tr>\n",
              "      <th>1</th>\n",
              "      <td>2</td>\n",
              "      <td>Jumanji (1995)</td>\n",
              "      <td>Adventure|Children|Fantasy</td>\n",
              "    </tr>\n",
              "    <tr>\n",
              "      <th>2</th>\n",
              "      <td>3</td>\n",
              "      <td>Grumpier Old Men (1995)</td>\n",
              "      <td>Comedy|Romance</td>\n",
              "    </tr>\n",
              "    <tr>\n",
              "      <th>3</th>\n",
              "      <td>4</td>\n",
              "      <td>Waiting to Exhale (1995)</td>\n",
              "      <td>Comedy|Drama|Romance</td>\n",
              "    </tr>\n",
              "    <tr>\n",
              "      <th>4</th>\n",
              "      <td>5</td>\n",
              "      <td>Father of the Bride Part II (1995)</td>\n",
              "      <td>Comedy</td>\n",
              "    </tr>\n",
              "  </tbody>\n",
              "</table>\n",
              "</div>"
            ],
            "text/plain": [
              "   movieId  ...                                       genres\n",
              "0        1  ...  Adventure|Animation|Children|Comedy|Fantasy\n",
              "1        2  ...                   Adventure|Children|Fantasy\n",
              "2        3  ...                               Comedy|Romance\n",
              "3        4  ...                         Comedy|Drama|Romance\n",
              "4        5  ...                                       Comedy\n",
              "\n",
              "[5 rows x 3 columns]"
            ]
          },
          "metadata": {
            "tags": []
          },
          "execution_count": 10
        }
      ]
    },
    {
      "cell_type": "code",
      "metadata": {
        "colab": {
          "base_uri": "https://localhost:8080/",
          "height": 545
        },
        "id": "2F2H2yv8IuPB",
        "outputId": "c2c7e575-1b65-4c44-b4d7-ea453235a252"
      },
      "source": [
        "# How top 15 users rated top 15 movies\r\n",
        "g = ratings.groupby('userId')['rating'].count()\r\n",
        "top_users = g.sort_values(ascending=False)[:15]\r\n",
        "g = ratings.groupby('movieId')['rating'].count()\r\n",
        "top_movies = g.sort_values(ascending=False)[:15]\r\n",
        "top_r = ratings.join(top_users, rsuffix='_r', how='inner', on='userId')\r\n",
        "top_r = top_r.join(top_movies, rsuffix='_r', how='inner', on='movieId')\r\n",
        "pd.crosstab(top_r.userId, top_r.movieId, top_r.rating, aggfunc=np.sum)"
      ],
      "execution_count": 12,
      "outputs": [
        {
          "output_type": "execute_result",
          "data": {
            "text/html": [
              "<div>\n",
              "<style scoped>\n",
              "    .dataframe tbody tr th:only-of-type {\n",
              "        vertical-align: middle;\n",
              "    }\n",
              "\n",
              "    .dataframe tbody tr th {\n",
              "        vertical-align: top;\n",
              "    }\n",
              "\n",
              "    .dataframe thead th {\n",
              "        text-align: right;\n",
              "    }\n",
              "</style>\n",
              "<table border=\"1\" class=\"dataframe\">\n",
              "  <thead>\n",
              "    <tr style=\"text-align: right;\">\n",
              "      <th>movieId</th>\n",
              "      <th>1</th>\n",
              "      <th>50</th>\n",
              "      <th>110</th>\n",
              "      <th>260</th>\n",
              "      <th>296</th>\n",
              "      <th>318</th>\n",
              "      <th>356</th>\n",
              "      <th>480</th>\n",
              "      <th>527</th>\n",
              "      <th>589</th>\n",
              "      <th>593</th>\n",
              "      <th>1196</th>\n",
              "      <th>2571</th>\n",
              "      <th>2858</th>\n",
              "      <th>2959</th>\n",
              "    </tr>\n",
              "    <tr>\n",
              "      <th>userId</th>\n",
              "      <th></th>\n",
              "      <th></th>\n",
              "      <th></th>\n",
              "      <th></th>\n",
              "      <th></th>\n",
              "      <th></th>\n",
              "      <th></th>\n",
              "      <th></th>\n",
              "      <th></th>\n",
              "      <th></th>\n",
              "      <th></th>\n",
              "      <th></th>\n",
              "      <th></th>\n",
              "      <th></th>\n",
              "      <th></th>\n",
              "    </tr>\n",
              "  </thead>\n",
              "  <tbody>\n",
              "    <tr>\n",
              "      <th>68</th>\n",
              "      <td>2.5</td>\n",
              "      <td>3.0</td>\n",
              "      <td>2.5</td>\n",
              "      <td>5.0</td>\n",
              "      <td>2.0</td>\n",
              "      <td>3.0</td>\n",
              "      <td>3.5</td>\n",
              "      <td>3.5</td>\n",
              "      <td>4.0</td>\n",
              "      <td>3.5</td>\n",
              "      <td>3.5</td>\n",
              "      <td>5.0</td>\n",
              "      <td>4.5</td>\n",
              "      <td>5.0</td>\n",
              "      <td>2.5</td>\n",
              "    </tr>\n",
              "    <tr>\n",
              "      <th>182</th>\n",
              "      <td>4.0</td>\n",
              "      <td>4.5</td>\n",
              "      <td>3.5</td>\n",
              "      <td>3.5</td>\n",
              "      <td>5.0</td>\n",
              "      <td>4.5</td>\n",
              "      <td>5.0</td>\n",
              "      <td>3.5</td>\n",
              "      <td>4.0</td>\n",
              "      <td>2.0</td>\n",
              "      <td>4.5</td>\n",
              "      <td>3.0</td>\n",
              "      <td>5.0</td>\n",
              "      <td>5.0</td>\n",
              "      <td>5.0</td>\n",
              "    </tr>\n",
              "    <tr>\n",
              "      <th>249</th>\n",
              "      <td>4.0</td>\n",
              "      <td>4.0</td>\n",
              "      <td>5.0</td>\n",
              "      <td>5.0</td>\n",
              "      <td>4.0</td>\n",
              "      <td>4.5</td>\n",
              "      <td>4.5</td>\n",
              "      <td>4.0</td>\n",
              "      <td>4.5</td>\n",
              "      <td>4.0</td>\n",
              "      <td>4.0</td>\n",
              "      <td>5.0</td>\n",
              "      <td>5.0</td>\n",
              "      <td>4.5</td>\n",
              "      <td>5.0</td>\n",
              "    </tr>\n",
              "    <tr>\n",
              "      <th>274</th>\n",
              "      <td>4.0</td>\n",
              "      <td>4.0</td>\n",
              "      <td>4.5</td>\n",
              "      <td>3.0</td>\n",
              "      <td>5.0</td>\n",
              "      <td>4.5</td>\n",
              "      <td>4.5</td>\n",
              "      <td>3.5</td>\n",
              "      <td>4.0</td>\n",
              "      <td>4.5</td>\n",
              "      <td>4.0</td>\n",
              "      <td>4.5</td>\n",
              "      <td>4.0</td>\n",
              "      <td>5.0</td>\n",
              "      <td>5.0</td>\n",
              "    </tr>\n",
              "    <tr>\n",
              "      <th>288</th>\n",
              "      <td>4.5</td>\n",
              "      <td>NaN</td>\n",
              "      <td>5.0</td>\n",
              "      <td>5.0</td>\n",
              "      <td>5.0</td>\n",
              "      <td>5.0</td>\n",
              "      <td>5.0</td>\n",
              "      <td>2.0</td>\n",
              "      <td>5.0</td>\n",
              "      <td>4.0</td>\n",
              "      <td>5.0</td>\n",
              "      <td>4.5</td>\n",
              "      <td>3.0</td>\n",
              "      <td>NaN</td>\n",
              "      <td>3.5</td>\n",
              "    </tr>\n",
              "    <tr>\n",
              "      <th>307</th>\n",
              "      <td>4.0</td>\n",
              "      <td>4.5</td>\n",
              "      <td>3.5</td>\n",
              "      <td>3.5</td>\n",
              "      <td>4.5</td>\n",
              "      <td>4.5</td>\n",
              "      <td>4.0</td>\n",
              "      <td>3.5</td>\n",
              "      <td>4.5</td>\n",
              "      <td>2.5</td>\n",
              "      <td>4.5</td>\n",
              "      <td>3.0</td>\n",
              "      <td>3.5</td>\n",
              "      <td>4.0</td>\n",
              "      <td>4.0</td>\n",
              "    </tr>\n",
              "    <tr>\n",
              "      <th>380</th>\n",
              "      <td>5.0</td>\n",
              "      <td>4.0</td>\n",
              "      <td>4.0</td>\n",
              "      <td>5.0</td>\n",
              "      <td>5.0</td>\n",
              "      <td>3.0</td>\n",
              "      <td>5.0</td>\n",
              "      <td>5.0</td>\n",
              "      <td>NaN</td>\n",
              "      <td>5.0</td>\n",
              "      <td>5.0</td>\n",
              "      <td>5.0</td>\n",
              "      <td>4.5</td>\n",
              "      <td>NaN</td>\n",
              "      <td>4.0</td>\n",
              "    </tr>\n",
              "    <tr>\n",
              "      <th>387</th>\n",
              "      <td>NaN</td>\n",
              "      <td>4.5</td>\n",
              "      <td>3.5</td>\n",
              "      <td>4.5</td>\n",
              "      <td>5.0</td>\n",
              "      <td>3.5</td>\n",
              "      <td>4.0</td>\n",
              "      <td>3.0</td>\n",
              "      <td>NaN</td>\n",
              "      <td>3.5</td>\n",
              "      <td>4.0</td>\n",
              "      <td>4.5</td>\n",
              "      <td>4.0</td>\n",
              "      <td>4.5</td>\n",
              "      <td>4.5</td>\n",
              "    </tr>\n",
              "    <tr>\n",
              "      <th>414</th>\n",
              "      <td>4.0</td>\n",
              "      <td>5.0</td>\n",
              "      <td>5.0</td>\n",
              "      <td>5.0</td>\n",
              "      <td>5.0</td>\n",
              "      <td>5.0</td>\n",
              "      <td>5.0</td>\n",
              "      <td>4.0</td>\n",
              "      <td>4.0</td>\n",
              "      <td>5.0</td>\n",
              "      <td>4.0</td>\n",
              "      <td>5.0</td>\n",
              "      <td>5.0</td>\n",
              "      <td>5.0</td>\n",
              "      <td>5.0</td>\n",
              "    </tr>\n",
              "    <tr>\n",
              "      <th>448</th>\n",
              "      <td>5.0</td>\n",
              "      <td>4.0</td>\n",
              "      <td>NaN</td>\n",
              "      <td>5.0</td>\n",
              "      <td>5.0</td>\n",
              "      <td>NaN</td>\n",
              "      <td>3.0</td>\n",
              "      <td>3.0</td>\n",
              "      <td>NaN</td>\n",
              "      <td>3.0</td>\n",
              "      <td>5.0</td>\n",
              "      <td>5.0</td>\n",
              "      <td>2.0</td>\n",
              "      <td>4.0</td>\n",
              "      <td>4.0</td>\n",
              "    </tr>\n",
              "    <tr>\n",
              "      <th>474</th>\n",
              "      <td>4.0</td>\n",
              "      <td>4.0</td>\n",
              "      <td>3.0</td>\n",
              "      <td>4.0</td>\n",
              "      <td>4.0</td>\n",
              "      <td>5.0</td>\n",
              "      <td>3.0</td>\n",
              "      <td>4.5</td>\n",
              "      <td>5.0</td>\n",
              "      <td>4.0</td>\n",
              "      <td>4.5</td>\n",
              "      <td>5.0</td>\n",
              "      <td>4.5</td>\n",
              "      <td>3.5</td>\n",
              "      <td>4.0</td>\n",
              "    </tr>\n",
              "    <tr>\n",
              "      <th>599</th>\n",
              "      <td>3.0</td>\n",
              "      <td>3.5</td>\n",
              "      <td>3.5</td>\n",
              "      <td>5.0</td>\n",
              "      <td>5.0</td>\n",
              "      <td>4.0</td>\n",
              "      <td>3.5</td>\n",
              "      <td>4.0</td>\n",
              "      <td>NaN</td>\n",
              "      <td>4.5</td>\n",
              "      <td>3.0</td>\n",
              "      <td>5.0</td>\n",
              "      <td>5.0</td>\n",
              "      <td>5.0</td>\n",
              "      <td>5.0</td>\n",
              "    </tr>\n",
              "    <tr>\n",
              "      <th>603</th>\n",
              "      <td>4.0</td>\n",
              "      <td>NaN</td>\n",
              "      <td>1.0</td>\n",
              "      <td>4.0</td>\n",
              "      <td>5.0</td>\n",
              "      <td>NaN</td>\n",
              "      <td>3.0</td>\n",
              "      <td>NaN</td>\n",
              "      <td>3.0</td>\n",
              "      <td>NaN</td>\n",
              "      <td>5.0</td>\n",
              "      <td>3.0</td>\n",
              "      <td>5.0</td>\n",
              "      <td>5.0</td>\n",
              "      <td>4.0</td>\n",
              "    </tr>\n",
              "    <tr>\n",
              "      <th>606</th>\n",
              "      <td>2.5</td>\n",
              "      <td>4.5</td>\n",
              "      <td>3.5</td>\n",
              "      <td>4.5</td>\n",
              "      <td>5.0</td>\n",
              "      <td>3.5</td>\n",
              "      <td>4.0</td>\n",
              "      <td>2.5</td>\n",
              "      <td>5.0</td>\n",
              "      <td>3.5</td>\n",
              "      <td>4.5</td>\n",
              "      <td>4.5</td>\n",
              "      <td>5.0</td>\n",
              "      <td>4.5</td>\n",
              "      <td>5.0</td>\n",
              "    </tr>\n",
              "    <tr>\n",
              "      <th>610</th>\n",
              "      <td>5.0</td>\n",
              "      <td>4.0</td>\n",
              "      <td>4.5</td>\n",
              "      <td>5.0</td>\n",
              "      <td>5.0</td>\n",
              "      <td>3.0</td>\n",
              "      <td>3.0</td>\n",
              "      <td>5.0</td>\n",
              "      <td>3.5</td>\n",
              "      <td>5.0</td>\n",
              "      <td>4.5</td>\n",
              "      <td>5.0</td>\n",
              "      <td>5.0</td>\n",
              "      <td>3.5</td>\n",
              "      <td>5.0</td>\n",
              "    </tr>\n",
              "  </tbody>\n",
              "</table>\n",
              "</div>"
            ],
            "text/plain": [
              "movieId  1     50    110   260   296   318   ...  589   593   1196  2571  2858  2959\n",
              "userId                                       ...                                    \n",
              "68        2.5   3.0   2.5   5.0   2.0   3.0  ...   3.5   3.5   5.0   4.5   5.0   2.5\n",
              "182       4.0   4.5   3.5   3.5   5.0   4.5  ...   2.0   4.5   3.0   5.0   5.0   5.0\n",
              "249       4.0   4.0   5.0   5.0   4.0   4.5  ...   4.0   4.0   5.0   5.0   4.5   5.0\n",
              "274       4.0   4.0   4.5   3.0   5.0   4.5  ...   4.5   4.0   4.5   4.0   5.0   5.0\n",
              "288       4.5   NaN   5.0   5.0   5.0   5.0  ...   4.0   5.0   4.5   3.0   NaN   3.5\n",
              "307       4.0   4.5   3.5   3.5   4.5   4.5  ...   2.5   4.5   3.0   3.5   4.0   4.0\n",
              "380       5.0   4.0   4.0   5.0   5.0   3.0  ...   5.0   5.0   5.0   4.5   NaN   4.0\n",
              "387       NaN   4.5   3.5   4.5   5.0   3.5  ...   3.5   4.0   4.5   4.0   4.5   4.5\n",
              "414       4.0   5.0   5.0   5.0   5.0   5.0  ...   5.0   4.0   5.0   5.0   5.0   5.0\n",
              "448       5.0   4.0   NaN   5.0   5.0   NaN  ...   3.0   5.0   5.0   2.0   4.0   4.0\n",
              "474       4.0   4.0   3.0   4.0   4.0   5.0  ...   4.0   4.5   5.0   4.5   3.5   4.0\n",
              "599       3.0   3.5   3.5   5.0   5.0   4.0  ...   4.5   3.0   5.0   5.0   5.0   5.0\n",
              "603       4.0   NaN   1.0   4.0   5.0   NaN  ...   NaN   5.0   3.0   5.0   5.0   4.0\n",
              "606       2.5   4.5   3.5   4.5   5.0   3.5  ...   3.5   4.5   4.5   5.0   4.5   5.0\n",
              "610       5.0   4.0   4.5   5.0   5.0   3.0  ...   5.0   4.5   5.0   5.0   3.5   5.0\n",
              "\n",
              "[15 rows x 15 columns]"
            ]
          },
          "metadata": {
            "tags": []
          },
          "execution_count": 12
        }
      ]
    },
    {
      "cell_type": "code",
      "metadata": {
        "colab": {
          "base_uri": "https://localhost:8080/"
        },
        "id": "WmNXqkalIykw",
        "outputId": "1504de52-41fb-4b8e-f9a4-2a7f07770775"
      },
      "source": [
        "user_enc = LabelEncoder()\r\n",
        "ratings['user'] = user_enc.fit_transform(ratings['userId'].values)\r\n",
        "n_users = ratings['user'].nunique()\r\n",
        "item_enc = LabelEncoder()\r\n",
        "ratings['movie'] = item_enc.fit_transform(ratings['movieId'].values)\r\n",
        "n_movies = ratings['movie'].nunique()\r\n",
        "ratings['rating'] = ratings['rating'].values.astype(np.float32)\r\n",
        "min_rating = min(ratings['rating'])\r\n",
        "max_rating = max(ratings['rating'])\r\n",
        "n_users, n_movies, min_rating, max_rating"
      ],
      "execution_count": 13,
      "outputs": [
        {
          "output_type": "execute_result",
          "data": {
            "text/plain": [
              "(610, 9724, 0.5, 5.0)"
            ]
          },
          "metadata": {
            "tags": []
          },
          "execution_count": 13
        }
      ]
    },
    {
      "cell_type": "code",
      "metadata": {
        "colab": {
          "base_uri": "https://localhost:8080/"
        },
        "id": "W2gwbjeUJAZl",
        "outputId": "35e4e756-15d9-406a-a8bf-510c3fc3709a"
      },
      "source": [
        "X = ratings[['user', 'movie']].values\r\n",
        "y = ratings['rating'].values\r\n",
        "X_train, X_test, y_train, y_test = train_test_split(X, y, test_size=0.1, random_state=42)\r\n",
        "X_train.shape, X_test.shape, y_train.shape, y_test.shape"
      ],
      "execution_count": 14,
      "outputs": [
        {
          "output_type": "execute_result",
          "data": {
            "text/plain": [
              "((90752, 2), (10084, 2), (90752,), (10084,))"
            ]
          },
          "metadata": {
            "tags": []
          },
          "execution_count": 14
        }
      ]
    },
    {
      "cell_type": "code",
      "metadata": {
        "id": "PZ9UtObtJBif"
      },
      "source": [
        "n_factors = 50\r\n",
        "X_train_array = [X_train[:, 0], X_train[:, 1]]\r\n",
        "X_test_array = [X_test[:, 0], X_test[:, 1]]"
      ],
      "execution_count": 15,
      "outputs": []
    },
    {
      "cell_type": "code",
      "metadata": {
        "id": "7HmRqFT7JDhD"
      },
      "source": [
        "from keras.models import Model\r\n",
        "from keras.layers import Input, Reshape, Dot\r\n",
        "from keras.layers.embeddings import Embedding\r\n",
        "from keras.optimizers import Adam\r\n",
        "from keras.regularizers import l2\r\n",
        "def RecommenderV1(n_users, n_movies, n_factors):\r\n",
        "    user = Input(shape=(1,))\r\n",
        "    u = Embedding(n_users, n_factors, embeddings_initializer='he_normal',\r\n",
        "                  embeddings_regularizer=l2(1e-6))(user)\r\n",
        "    u = Reshape((n_factors,))(u)\r\n",
        "    \r\n",
        "    movie = Input(shape=(1,))\r\n",
        "    m = Embedding(n_movies, n_factors, embeddings_initializer='he_normal',\r\n",
        "                  embeddings_regularizer=l2(1e-6))(movie)\r\n",
        "    m = Reshape((n_factors,))(m)\r\n",
        "    \r\n",
        "    x = Dot(axes=1)([u, m])\r\n",
        "    model = Model(inputs=[user, movie], outputs=x)\r\n",
        "    opt = Adam(lr=0.001)\r\n",
        "    model.compile(loss='mean_squared_error', optimizer=opt)\r\n",
        "    return model"
      ],
      "execution_count": 16,
      "outputs": []
    },
    {
      "cell_type": "code",
      "metadata": {
        "colab": {
          "base_uri": "https://localhost:8080/"
        },
        "id": "MftL9ZUVJE9W",
        "outputId": "ae6a8007-4ba4-4e15-d342-40de35f1d936"
      },
      "source": [
        "model = RecommenderV1(n_users, n_movies, n_factors)\r\n",
        "model.summary()"
      ],
      "execution_count": 17,
      "outputs": [
        {
          "output_type": "stream",
          "text": [
            "Model: \"functional_1\"\n",
            "__________________________________________________________________________________________________\n",
            "Layer (type)                    Output Shape         Param #     Connected to                     \n",
            "==================================================================================================\n",
            "input_1 (InputLayer)            [(None, 1)]          0                                            \n",
            "__________________________________________________________________________________________________\n",
            "input_2 (InputLayer)            [(None, 1)]          0                                            \n",
            "__________________________________________________________________________________________________\n",
            "embedding (Embedding)           (None, 1, 50)        30500       input_1[0][0]                    \n",
            "__________________________________________________________________________________________________\n",
            "embedding_1 (Embedding)         (None, 1, 50)        486200      input_2[0][0]                    \n",
            "__________________________________________________________________________________________________\n",
            "reshape (Reshape)               (None, 50)           0           embedding[0][0]                  \n",
            "__________________________________________________________________________________________________\n",
            "reshape_1 (Reshape)             (None, 50)           0           embedding_1[0][0]                \n",
            "__________________________________________________________________________________________________\n",
            "dot (Dot)                       (None, 1)            0           reshape[0][0]                    \n",
            "                                                                 reshape_1[0][0]                  \n",
            "==================================================================================================\n",
            "Total params: 516,700\n",
            "Trainable params: 516,700\n",
            "Non-trainable params: 0\n",
            "__________________________________________________________________________________________________\n"
          ],
          "name": "stdout"
        }
      ]
    },
    {
      "cell_type": "code",
      "metadata": {
        "colab": {
          "base_uri": "https://localhost:8080/"
        },
        "id": "LxxhlENrJGJU",
        "outputId": "b332362e-3856-411a-eee2-85ff117c5bbe"
      },
      "source": [
        "history = model.fit(x=X_train_array, y=y_train, batch_size=64, epochs=5,\r\n",
        "                    verbose=1, validation_data=(X_test_array, y_test))"
      ],
      "execution_count": 18,
      "outputs": [
        {
          "output_type": "stream",
          "text": [
            "Epoch 1/5\n"
          ],
          "name": "stdout"
        },
        {
          "output_type": "stream",
          "text": [
            "/usr/local/lib/python3.6/dist-packages/tensorflow/python/framework/indexed_slices.py:432: UserWarning: Converting sparse IndexedSlices to a dense Tensor of unknown shape. This may consume a large amount of memory.\n",
            "  \"Converting sparse IndexedSlices to a dense Tensor of unknown shape. \"\n"
          ],
          "name": "stderr"
        },
        {
          "output_type": "stream",
          "text": [
            "1418/1418 [==============================] - 6s 4ms/step - loss: 9.1825 - val_loss: 3.1215\n",
            "Epoch 2/5\n",
            "1418/1418 [==============================] - 6s 4ms/step - loss: 1.9367 - val_loss: 1.6169\n",
            "Epoch 3/5\n",
            "1418/1418 [==============================] - 6s 4ms/step - loss: 1.1109 - val_loss: 1.3555\n",
            "Epoch 4/5\n",
            "1418/1418 [==============================] - 6s 4ms/step - loss: 0.8579 - val_loss: 1.2823\n",
            "Epoch 5/5\n",
            "1418/1418 [==============================] - 6s 4ms/step - loss: 0.7334 - val_loss: 1.2560\n"
          ],
          "name": "stdout"
        }
      ]
    },
    {
      "cell_type": "code",
      "metadata": {
        "id": "7vlEYIBzJHte"
      },
      "source": [
        "from keras.layers import Add, Activation, Lambda\r\n",
        "class EmbeddingLayer:\r\n",
        "    def __init__(self, n_items, n_factors):\r\n",
        "        self.n_items = n_items\r\n",
        "        self.n_factors = n_factors\r\n",
        "    \r\n",
        "    def __call__(self, x):\r\n",
        "        x = Embedding(self.n_items, self.n_factors, embeddings_initializer='he_normal',\r\n",
        "                      embeddings_regularizer=l2(1e-6))(x)\r\n",
        "        x = Reshape((self.n_factors,))(x)\r\n",
        "        return x\r\n",
        "def RecommenderV2(n_users, n_movies, n_factors, min_rating, max_rating):\r\n",
        "    user = Input(shape=(1,))\r\n",
        "    u = EmbeddingLayer(n_users, n_factors)(user)\r\n",
        "    ub = EmbeddingLayer(n_users, 1)(user)\r\n",
        "    \r\n",
        "    movie = Input(shape=(1,))\r\n",
        "    m = EmbeddingLayer(n_movies, n_factors)(movie)\r\n",
        "    mb = EmbeddingLayer(n_movies, 1)(movie)\r\n",
        "    x = Dot(axes=1)([u, m])\r\n",
        "    x = Add()([x, ub, mb])\r\n",
        "    x = Activation('sigmoid')(x)\r\n",
        "    x = Lambda(lambda x: x * (max_rating - min_rating) + min_rating)(x)\r\n",
        "    model = Model(inputs=[user, movie], outputs=x)\r\n",
        "    opt = Adam(lr=0.001)\r\n",
        "    model.compile(loss='mean_squared_error', optimizer=opt)\r\n",
        "    return model"
      ],
      "execution_count": 19,
      "outputs": []
    },
    {
      "cell_type": "code",
      "metadata": {
        "colab": {
          "base_uri": "https://localhost:8080/"
        },
        "id": "Pmki1VV0JJgU",
        "outputId": "c8b8d6f1-ca62-45fb-fa19-d5631cb32c67"
      },
      "source": [
        "model = RecommenderV2(n_users, n_movies, n_factors, min_rating, max_rating)\r\n",
        "model.summary()"
      ],
      "execution_count": 20,
      "outputs": [
        {
          "output_type": "stream",
          "text": [
            "Model: \"functional_3\"\n",
            "__________________________________________________________________________________________________\n",
            "Layer (type)                    Output Shape         Param #     Connected to                     \n",
            "==================================================================================================\n",
            "input_3 (InputLayer)            [(None, 1)]          0                                            \n",
            "__________________________________________________________________________________________________\n",
            "input_4 (InputLayer)            [(None, 1)]          0                                            \n",
            "__________________________________________________________________________________________________\n",
            "embedding_2 (Embedding)         (None, 1, 50)        30500       input_3[0][0]                    \n",
            "__________________________________________________________________________________________________\n",
            "embedding_4 (Embedding)         (None, 1, 50)        486200      input_4[0][0]                    \n",
            "__________________________________________________________________________________________________\n",
            "reshape_2 (Reshape)             (None, 50)           0           embedding_2[0][0]                \n",
            "__________________________________________________________________________________________________\n",
            "reshape_4 (Reshape)             (None, 50)           0           embedding_4[0][0]                \n",
            "__________________________________________________________________________________________________\n",
            "embedding_3 (Embedding)         (None, 1, 1)         610         input_3[0][0]                    \n",
            "__________________________________________________________________________________________________\n",
            "embedding_5 (Embedding)         (None, 1, 1)         9724        input_4[0][0]                    \n",
            "__________________________________________________________________________________________________\n",
            "dot_1 (Dot)                     (None, 1)            0           reshape_2[0][0]                  \n",
            "                                                                 reshape_4[0][0]                  \n",
            "__________________________________________________________________________________________________\n",
            "reshape_3 (Reshape)             (None, 1)            0           embedding_3[0][0]                \n",
            "__________________________________________________________________________________________________\n",
            "reshape_5 (Reshape)             (None, 1)            0           embedding_5[0][0]                \n",
            "__________________________________________________________________________________________________\n",
            "add (Add)                       (None, 1)            0           dot_1[0][0]                      \n",
            "                                                                 reshape_3[0][0]                  \n",
            "                                                                 reshape_5[0][0]                  \n",
            "__________________________________________________________________________________________________\n",
            "activation (Activation)         (None, 1)            0           add[0][0]                        \n",
            "__________________________________________________________________________________________________\n",
            "lambda (Lambda)                 (None, 1)            0           activation[0][0]                 \n",
            "==================================================================================================\n",
            "Total params: 527,034\n",
            "Trainable params: 527,034\n",
            "Non-trainable params: 0\n",
            "__________________________________________________________________________________________________\n"
          ],
          "name": "stdout"
        }
      ]
    },
    {
      "cell_type": "code",
      "metadata": {
        "id": "F_xJowpaJKqF"
      },
      "source": [
        "from keras.layers import Concatenate, Dense, Dropout\r\n",
        "def RecommenderNet(n_users, n_movies, n_factors, min_rating, max_rating):\r\n",
        "    user = Input(shape=(1,))\r\n",
        "    u = EmbeddingLayer(n_users, n_factors)(user)\r\n",
        "    \r\n",
        "    movie = Input(shape=(1,))\r\n",
        "    m = EmbeddingLayer(n_movies, n_factors)(movie)\r\n",
        "    \r\n",
        "    x = Concatenate()([u, m])\r\n",
        "    x = Dropout(0.05)(x)\r\n",
        "    \r\n",
        "    x = Dense(10, kernel_initializer='he_normal')(x)\r\n",
        "    x = Activation('relu')(x)\r\n",
        "    x = Dropout(0.5)(x)\r\n",
        "    \r\n",
        "    x = Dense(1, kernel_initializer='he_normal')(x)\r\n",
        "    x = Activation('sigmoid')(x)\r\n",
        "    x = Lambda(lambda x: x * (max_rating - min_rating) + min_rating)(x)\r\n",
        "    model = Model(inputs=[user, movie], outputs=x)\r\n",
        "    opt = Adam(lr=0.001)\r\n",
        "    model.compile(loss='mean_squared_error', optimizer=opt)\r\n",
        "    return model"
      ],
      "execution_count": 21,
      "outputs": []
    },
    {
      "cell_type": "code",
      "metadata": {
        "colab": {
          "base_uri": "https://localhost:8080/"
        },
        "id": "TYWsY4cqJOl2",
        "outputId": "02777b00-4103-429e-a601-c5221db1e372"
      },
      "source": [
        "model = RecommenderNet(n_users, n_movies, n_factors, min_rating, max_rating)\r\n",
        "model.summary()"
      ],
      "execution_count": 22,
      "outputs": [
        {
          "output_type": "stream",
          "text": [
            "Model: \"functional_5\"\n",
            "__________________________________________________________________________________________________\n",
            "Layer (type)                    Output Shape         Param #     Connected to                     \n",
            "==================================================================================================\n",
            "input_5 (InputLayer)            [(None, 1)]          0                                            \n",
            "__________________________________________________________________________________________________\n",
            "input_6 (InputLayer)            [(None, 1)]          0                                            \n",
            "__________________________________________________________________________________________________\n",
            "embedding_6 (Embedding)         (None, 1, 50)        30500       input_5[0][0]                    \n",
            "__________________________________________________________________________________________________\n",
            "embedding_7 (Embedding)         (None, 1, 50)        486200      input_6[0][0]                    \n",
            "__________________________________________________________________________________________________\n",
            "reshape_6 (Reshape)             (None, 50)           0           embedding_6[0][0]                \n",
            "__________________________________________________________________________________________________\n",
            "reshape_7 (Reshape)             (None, 50)           0           embedding_7[0][0]                \n",
            "__________________________________________________________________________________________________\n",
            "concatenate (Concatenate)       (None, 100)          0           reshape_6[0][0]                  \n",
            "                                                                 reshape_7[0][0]                  \n",
            "__________________________________________________________________________________________________\n",
            "dropout (Dropout)               (None, 100)          0           concatenate[0][0]                \n",
            "__________________________________________________________________________________________________\n",
            "dense (Dense)                   (None, 10)           1010        dropout[0][0]                    \n",
            "__________________________________________________________________________________________________\n",
            "activation_1 (Activation)       (None, 10)           0           dense[0][0]                      \n",
            "__________________________________________________________________________________________________\n",
            "dropout_1 (Dropout)             (None, 10)           0           activation_1[0][0]               \n",
            "__________________________________________________________________________________________________\n",
            "dense_1 (Dense)                 (None, 1)            11          dropout_1[0][0]                  \n",
            "__________________________________________________________________________________________________\n",
            "activation_2 (Activation)       (None, 1)            0           dense_1[0][0]                    \n",
            "__________________________________________________________________________________________________\n",
            "lambda_1 (Lambda)               (None, 1)            0           activation_2[0][0]               \n",
            "==================================================================================================\n",
            "Total params: 517,721\n",
            "Trainable params: 517,721\n",
            "Non-trainable params: 0\n",
            "__________________________________________________________________________________________________\n"
          ],
          "name": "stdout"
        }
      ]
    },
    {
      "cell_type": "code",
      "metadata": {
        "colab": {
          "base_uri": "https://localhost:8080/"
        },
        "id": "g8Qe0kGdJP-n",
        "outputId": "58977e26-df69-4494-96e3-3066de8cfeb4"
      },
      "source": [
        "history = model.fit(x=X_train_array, y=y_train, batch_size=64, epochs=5,\r\n",
        "                    verbose=1, validation_data=(X_test_array, y_test))"
      ],
      "execution_count": 23,
      "outputs": [
        {
          "output_type": "stream",
          "text": [
            "Epoch 1/5\n"
          ],
          "name": "stdout"
        },
        {
          "output_type": "stream",
          "text": [
            "/usr/local/lib/python3.6/dist-packages/tensorflow/python/framework/indexed_slices.py:432: UserWarning: Converting sparse IndexedSlices to a dense Tensor of unknown shape. This may consume a large amount of memory.\n",
            "  \"Converting sparse IndexedSlices to a dense Tensor of unknown shape. \"\n"
          ],
          "name": "stderr"
        },
        {
          "output_type": "stream",
          "text": [
            "1418/1418 [==============================] - 6s 4ms/step - loss: 0.9056 - val_loss: 0.7927\n",
            "Epoch 2/5\n",
            "1418/1418 [==============================] - 6s 4ms/step - loss: 0.7725 - val_loss: 0.7780\n",
            "Epoch 3/5\n",
            "1418/1418 [==============================] - 6s 4ms/step - loss: 0.7437 - val_loss: 0.7806\n",
            "Epoch 4/5\n",
            "1418/1418 [==============================] - 6s 4ms/step - loss: 0.7235 - val_loss: 0.7797\n",
            "Epoch 5/5\n",
            "1418/1418 [==============================] - 6s 4ms/step - loss: 0.7149 - val_loss: 0.7782\n"
          ],
          "name": "stdout"
        }
      ]
    },
    {
      "cell_type": "code",
      "metadata": {
        "id": "3ojz7BWrJUEj"
      },
      "source": [
        ""
      ],
      "execution_count": null,
      "outputs": []
    }
  ]
}